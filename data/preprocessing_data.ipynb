{
 "cells": [
  {
   "cell_type": "code",
   "execution_count": 80,
   "metadata": {},
   "outputs": [],
   "source": [
    "import os\n",
    "import sys\n",
    "import glob\n",
    "import numpy as np\n",
    "import pickle\n",
    "from PIL import Image\n",
    "from music21 import converter, corpus, instrument, midi, note, chord, pitch\n",
    "\n",
    "sys.path.insert(0, os.path.abspath('..'))  # noqa\n",
    "from lucky_trainer.misc.custom_dataset_classes import NumpyDataset\n",
    "\n",
    "mf = \"edm\"\n",
    "\n",
    "os.makedirs(mf + '/input_data/', exist_ok=True)\n",
    "os.makedirs(mf + '/encodings/', exist_ok=True)\n",
    "os.makedirs(mf + '/compositions/', exist_ok=True)\n",
    "os.makedirs(mf + '/saved_models/', exist_ok=True)"
   ]
  },
  {
   "cell_type": "code",
   "execution_count": 74,
   "metadata": {},
   "outputs": [],
   "source": [
    "def build_dictionary(file_name):\n",
    "    notes = []\n",
    "    chords = []\n",
    "    durations = []\n",
    "    offsets = []\n",
    "    for file in glob.glob(file_name + \"/original_data/*.mid\"):\n",
    "        last_offset = 0\n",
    "        midi = converter.parse(file)\n",
    "        print(\"Read in possible notes/chords of %s\" % file)\n",
    "        \n",
    "        try:  # file has instrument parts\n",
    "            s2 = instrument.partitionByInstrument(midi)\n",
    "            notes_to_parse = s2.parts[0].recurse()\n",
    "        except:  # file has notes in a flat structure\n",
    "            notes_to_parse = midi.notes\n",
    "            \n",
    "        for element in notes_to_parse:\n",
    "            if isinstance(element, note.Note):\n",
    "                notes.append(element.nameWithOctave)\n",
    "            elif isinstance(element, chord.Chord):\n",
    "                chords.append(element.commonName)\n",
    "            else:\n",
    "                continue\n",
    "            durations.append(element.duration.quarterLength)\n",
    "            element_offset = element.offset\n",
    "            if last_offset == 0:\n",
    "                last_offset = element_offset\n",
    "            offsets.append(element_offset - last_offset)\n",
    "            last_offset = element_offset\n",
    "            \n",
    "    l = set.union(set(notes), set(chords))   \n",
    "    mapping_notes = dict([(y,x+1) for x,y in enumerate(sorted(l))])\n",
    "    mapping_durations = dict([(y,x+1) for x,y in enumerate(sorted(set(durations)))])\n",
    "    mapping_offsets = dict([(y,x+1) for x,y in enumerate(sorted(set(offsets)))])\n",
    "    \n",
    "    return mapping_notes, mapping_durations, mapping_offsets"
   ]
  },
  {
   "cell_type": "code",
   "execution_count": 125,
   "metadata": {},
   "outputs": [],
   "source": [
    "def encode_folder(music_folder):\n",
    "    mapping_notes, mapping_durations, mapping_offsets = build_dictionary(music_folder)\n",
    "    \n",
    "    # save dictionary\n",
    "    f = open(music_folder + \"/element_key_dict.pkl\",\"wb\")\n",
    "    pickle.dump(mapping_notes, f)\n",
    "    f.close()\n",
    "    f = open(music_folder + \"/durations_key_dict.pkl\",\"wb\")\n",
    "    pickle.dump(mapping_durations, f)\n",
    "    f.close()\n",
    "    f = open(music_folder + \"/offsets_key_dict.pkl\",\"wb\")\n",
    "    pickle.dump(mapping_offsets, f)\n",
    "    f.close()\n",
    "    \n",
    "    print(\"Read in completed. \\n\")\n",
    "    \n",
    "    for file in glob.glob(music_folder + \"/original_data/*.mid\"):\n",
    "        midi = converter.parse(file)\n",
    "        print(\"Parsing %s\" % file)\n",
    "\n",
    "        try:  # file has instrument parts\n",
    "            s2 = instrument.partitionByInstrument(midi)\n",
    "            notes_to_parse = s2.parts[0].recurse()\n",
    "        except:  # file has notes in a flat structure\n",
    "            notes_to_parse = midi.notes\n",
    "            \n",
    "        midi_encoding = []\n",
    "        last_offset = 0\n",
    "        for element in notes_to_parse:\n",
    "            if isinstance(element, note.Note):\n",
    "                element_key = element.nameWithOctave\n",
    "            elif isinstance(element, chord.Chord):\n",
    "                element_key = element.commonName\n",
    "            else:\n",
    "                continue\n",
    "            element_offset = element.offset\n",
    "            if last_offset == 0:\n",
    "                last_offset = element_offset\n",
    "            element_duration = element.duration\n",
    "            max_key = max(len(mapping_notes), len(mapping_offsets), len(mapping_durations))\n",
    "            np_arr = np.stack(np.array([np.zeros(max_key, dtype=np.float32), \n",
    "                               np.zeros(max_key, dtype=np.float32), \n",
    "                               np.zeros(max_key, dtype=np.float32)]))\n",
    "            np_arr[0][mapping_notes[element_key]-1] = 1\n",
    "            np_arr[1][mapping_offsets[element_offset-last_offset]-1] = 1\n",
    "            np_arr[2][mapping_durations[element_duration.quarterLength]-1] = 1\n",
    "            midi_encoding.append(np_arr)\n",
    "            \n",
    "            last_offset = element_offset\n",
    "\n",
    "        file_encoding = np.array(midi_encoding)\n",
    "        f = open(music_folder + \"/encodings/\" + os.path.basename(file)[:-4] + \"_encoding.pkl\",\"wb\")\n",
    "        pickle.dump(file_encoding, f)\n",
    "        f.close()\n",
    "        "
   ]
  },
  {
   "cell_type": "code",
   "execution_count": 126,
   "metadata": {},
   "outputs": [
    {
     "name": "stdout",
     "output_type": "stream",
     "text": [
      "Read in possible notes/chords of edm/original_data\\deadmau5 - Deus Ex Machina  (midi by Carlo Prato) (www.cprato.com).mid\n",
      "Read in completed. \n",
      "\n",
      "Parsing edm/original_data\\deadmau5 - Deus Ex Machina  (midi by Carlo Prato) (www.cprato.com).mid\n"
     ]
    }
   ],
   "source": [
    "encode_folder(mf)"
   ]
  },
  {
   "cell_type": "code",
   "execution_count": 135,
   "metadata": {},
   "outputs": [],
   "source": [
    "def get_dl_data(music_folder, seq_len=25):\n",
    "    x_data = []\n",
    "    y_data = []\n",
    "    for file in glob.glob(music_folder + \"/encodings/*_encoding.pkl\"):\n",
    "        print(\"Loading %s\" % file)\n",
    "        with open(file, 'rb') as f:\n",
    "            data = pickle.load(f)\n",
    "        all_sequences_length = len(data)-2*seq_len\n",
    "        if all_sequences_length < 0:\n",
    "            print(\"File %s is too small. Skipping.\" % file)\n",
    "            break\n",
    "        for i in range(all_sequences_length):\n",
    "            x_data.append(data[i:i+seq_len])\n",
    "            y_data.append(data[i+seq_len:i+2*seq_len].astype(np.int64))\n",
    "    \n",
    "    print(\"Extraction completed.\\n\")\n",
    "    return np.array(x_data), np.array(y_data)\n",
    "\n",
    "def get_val_split(inputs, targets, split=10000):\n",
    "    dataset_length = len(inputs)\n",
    "    indices = list(range(dataset_length))\n",
    "    np.random.shuffle(indices)\n",
    "    if split <= 1:\n",
    "        mapping_val = indices[:int(split * dataset_length)]\n",
    "        mapping_train = indices[int(split * dataset_length):]\n",
    "    else:\n",
    "        mapping_val = indices[:split]\n",
    "        mapping_train = indices[split:]\n",
    "\n",
    "    return (inputs[mapping_train], targets[mapping_train],\n",
    "            inputs[mapping_val], targets[mapping_val])"
   ]
  },
  {
   "cell_type": "code",
   "execution_count": 136,
   "metadata": {},
   "outputs": [
    {
     "name": "stdout",
     "output_type": "stream",
     "text": [
      "Loading edm/encodings\\deadmau5 - Deus Ex Machina  (midi by Carlo Prato) (www.cprato.com)_encoding.pkl\n",
      "Extraction completed.\n",
      "\n"
     ]
    }
   ],
   "source": [
    "x, y = get_dl_data(mf, 10)\n",
    "train_in, train_out, val_in, val_out = get_val_split(x, y, split=10)"
   ]
  },
  {
   "cell_type": "code",
   "execution_count": 137,
   "metadata": {},
   "outputs": [
    {
     "name": "stdout",
     "output_type": "stream",
     "text": [
      "edm data saved.\n"
     ]
    }
   ],
   "source": [
    "# Create PyTorch Dataset\n",
    "train = NumpyDataset(train_in, train_out)\n",
    "val = NumpyDataset(val_in, val_out)\n",
    "\n",
    "# Save the Dataset\n",
    "outfile = open(mf + \"/input_data/train\", 'wb')\n",
    "pickle.dump(train, outfile)\n",
    "outfile.close()\n",
    "outfile = open(mf + \"/input_data/val\", 'wb')\n",
    "pickle.dump(val, outfile)\n",
    "outfile.close()\n",
    "print(mf + \" data saved.\")"
   ]
  },
  {
   "cell_type": "code",
   "execution_count": null,
   "metadata": {},
   "outputs": [],
   "source": []
  },
  {
   "cell_type": "code",
   "execution_count": null,
   "metadata": {},
   "outputs": [],
   "source": []
  }
 ],
 "metadata": {
  "kernelspec": {
   "display_name": "Python 3",
   "language": "python",
   "name": "python3"
  },
  "language_info": {
   "codemirror_mode": {
    "name": "ipython",
    "version": 3
   },
   "file_extension": ".py",
   "mimetype": "text/x-python",
   "name": "python",
   "nbconvert_exporter": "python",
   "pygments_lexer": "ipython3",
   "version": "3.6.9"
  }
 },
 "nbformat": 4,
 "nbformat_minor": 2
}
