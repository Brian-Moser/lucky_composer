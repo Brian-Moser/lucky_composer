{
 "cells": [
  {
   "cell_type": "code",
   "execution_count": 222,
   "metadata": {},
   "outputs": [
    {
     "ename": "ModuleNotFoundError",
     "evalue": "No module named 'PIL'",
     "output_type": "error",
     "traceback": [
      "\u001b[1;31m---------------------------------------------------------------------------\u001b[0m",
      "\u001b[1;31mModuleNotFoundError\u001b[0m                       Traceback (most recent call last)",
      "\u001b[1;32m<ipython-input-222-1e1d0abfc293>\u001b[0m in \u001b[0;36m<module>\u001b[1;34m\u001b[0m\n\u001b[0;32m      3\u001b[0m \u001b[1;32mimport\u001b[0m \u001b[0mnumpy\u001b[0m \u001b[1;32mas\u001b[0m \u001b[0mnp\u001b[0m\u001b[1;33m\u001b[0m\u001b[1;33m\u001b[0m\u001b[0m\n\u001b[0;32m      4\u001b[0m \u001b[1;32mimport\u001b[0m \u001b[0mpickle\u001b[0m\u001b[1;33m\u001b[0m\u001b[1;33m\u001b[0m\u001b[0m\n\u001b[1;32m----> 5\u001b[1;33m \u001b[1;32mfrom\u001b[0m \u001b[0mPIL\u001b[0m \u001b[1;32mimport\u001b[0m \u001b[0mImage\u001b[0m\u001b[1;33m\u001b[0m\u001b[1;33m\u001b[0m\u001b[0m\n\u001b[0m\u001b[0;32m      6\u001b[0m \u001b[1;32mfrom\u001b[0m \u001b[0mmusic21\u001b[0m \u001b[1;32mimport\u001b[0m \u001b[0mconverter\u001b[0m\u001b[1;33m,\u001b[0m \u001b[0mcorpus\u001b[0m\u001b[1;33m,\u001b[0m \u001b[0minstrument\u001b[0m\u001b[1;33m,\u001b[0m \u001b[0mmidi\u001b[0m\u001b[1;33m,\u001b[0m \u001b[0mnote\u001b[0m\u001b[1;33m,\u001b[0m \u001b[0mchord\u001b[0m\u001b[1;33m,\u001b[0m \u001b[0mpitch\u001b[0m\u001b[1;33m\u001b[0m\u001b[1;33m\u001b[0m\u001b[0m\n\u001b[0;32m      7\u001b[0m \u001b[1;33m\u001b[0m\u001b[0m\n",
      "\u001b[1;31mModuleNotFoundError\u001b[0m: No module named 'PIL'"
     ]
    }
   ],
   "source": [
    "import os\n",
    "import glob\n",
    "import numpy as np\n",
    "import pickle\n",
    "from PIL import Image\n",
    "from music21 import converter, corpus, instrument, midi, note, chord, pitch\n",
    "\n",
    "file_name = \"edm\""
   ]
  },
  {
   "cell_type": "code",
   "execution_count": 217,
   "metadata": {},
   "outputs": [],
   "source": [
    "def build_dictionary(file_name):\n",
    "    notes = []\n",
    "    chords = []\n",
    "    offsets = []\n",
    "    for file in glob.glob(file_name + \"/original_data/*.mid\"):\n",
    "        midi = converter.parse(file)\n",
    "        print(\"Read in possible notes/chords of %s\" % file)\n",
    "        \n",
    "        try:  # file has instrument parts\n",
    "            s2 = instrument.partitionByInstrument(midi)\n",
    "            notes_to_parse = s2.parts[0].recurse()\n",
    "        except:  # file has notes in a flat structure\n",
    "            notes_to_parse = midi.notes\n",
    "            \n",
    "        for element in notes_to_parse:\n",
    "            if isinstance(element, note.Note):\n",
    "                notes.append(element.nameWithOctave)\n",
    "            elif isinstance(element, chord.Chord):\n",
    "                chords.append(element.commonName)\n",
    "            else:\n",
    "                continue\n",
    "            offsets.append(element.duration.quarterLength)\n",
    "            \n",
    "    l = set.union(set(notes), set(chords))   \n",
    "    mapping_notes = dict([(y,x+1) for x,y in enumerate(sorted(l))])\n",
    "    mapping_offsets = dict([(y,x+1) for x,y in enumerate(sorted(set(offsets)))])\n",
    "    \n",
    "    return mapping_notes, mapping_offsets"
   ]
  },
  {
   "cell_type": "code",
   "execution_count": 220,
   "metadata": {},
   "outputs": [],
   "source": [
    "def get_midi(music_folder):\n",
    "    mapping_notes, mapping_offsets = build_dictionary(music_folder)\n",
    "    \n",
    "    # save dictionary\n",
    "    f = open(music_folder + \"/element_key_dict.pkl\",\"wb\")\n",
    "    pickle.dump(mapping_notes, f)\n",
    "    f.close()\n",
    "    f = open(music_folder + \"/offset_key_dict.pkl\",\"wb\")\n",
    "    pickle.dump(mapping_offsets, f)\n",
    "    f.close()\n",
    "    \n",
    "    print(\"Read in completed. \\n\")\n",
    "    \n",
    "    for file in glob.glob(music_folder + \"/original_data/*.mid\"):\n",
    "        midi = converter.parse(file)\n",
    "        print(\"Parsing %s\" % file)\n",
    "\n",
    "        try:  # file has instrument parts\n",
    "            s2 = instrument.partitionByInstrument(midi)\n",
    "            notes_to_parse = s2.parts[0].recurse()\n",
    "        except:  # file has notes in a flat structure\n",
    "            notes_to_parse = midi.notes\n",
    "            \n",
    "        midi_encoding = []\n",
    "        max_offset = 0\n",
    "        for element in notes_to_parse:\n",
    "            if isinstance(element, note.Note):\n",
    "                element_key = element.nameWithOctave\n",
    "            elif isinstance(element, chord.Chord):\n",
    "                element_key = element.commonName\n",
    "            else:\n",
    "                continue\n",
    "            element_offset = element.offset\n",
    "            if element_offset*4 > max_offset:\n",
    "                max_offset = int(element_offset*4)\n",
    "            element_duration = element.duration\n",
    "            midi_encoding.append((mapping_notes[element_key], \n",
    "                                  int(element_offset*4), \n",
    "                                  mapping_offsets[element_duration.quarterLength]))\n",
    "\n",
    "        file_encoding = np.zeros((1, len(mapping_notes), int(max_offset)))\n",
    "        print(file_encoding.shape)\n",
    "        for encoding in midi_encoding:\n",
    "            file_encoding[0][encoding[0]-1][encoding[1]-1] = encoding[2]/len(mapping_offsets)\n",
    "        \n",
    "        # save encoding\n",
    "        #scipy.misc.imsave(music_folder + \"/encodings/\" + os.path.basename(file)[:-4] + \"_encoding.png\", np.array(file_encoding))\n",
    "        scipy.misc.toimage(\n",
    "            np.array(file_encoding), cmin=0.0, cmax=1.0\n",
    "        ).save(music_folder + \"/encodings/\" + os.path.basename(file)[:-4] + \"_encoding.png\")"
   ]
  },
  {
   "cell_type": "code",
   "execution_count": 221,
   "metadata": {},
   "outputs": [
    {
     "name": "stdout",
     "output_type": "stream",
     "text": [
      "Read in possible notes/chords of edm/original_data\\deadmau5 - Deus Ex Machina  (midi by Carlo Prato) (www.cprato.com).mid\n",
      "Read in completed. \n",
      "\n",
      "Parsing edm/original_data\\deadmau5 - Deus Ex Machina  (midi by Carlo Prato) (www.cprato.com).mid\n",
      "(1, 8, 575)\n"
     ]
    },
    {
     "ename": "AttributeError",
     "evalue": "module 'scipy.misc' has no attribute 'toimage'",
     "output_type": "error",
     "traceback": [
      "\u001b[1;31m---------------------------------------------------------------------------\u001b[0m",
      "\u001b[1;31mAttributeError\u001b[0m                            Traceback (most recent call last)",
      "\u001b[1;32m<ipython-input-221-2caccc264bcb>\u001b[0m in \u001b[0;36m<module>\u001b[1;34m\u001b[0m\n\u001b[1;32m----> 1\u001b[1;33m \u001b[0mmidi_file\u001b[0m \u001b[1;33m=\u001b[0m \u001b[0mget_midi\u001b[0m\u001b[1;33m(\u001b[0m\u001b[1;34m'edm'\u001b[0m\u001b[1;33m)\u001b[0m\u001b[1;33m\u001b[0m\u001b[1;33m\u001b[0m\u001b[0m\n\u001b[0m",
      "\u001b[1;32m<ipython-input-220-81888d6b7005>\u001b[0m in \u001b[0;36mget_midi\u001b[1;34m(music_folder)\u001b[0m\n\u001b[0;32m     46\u001b[0m         \u001b[1;31m# save encoding\u001b[0m\u001b[1;33m\u001b[0m\u001b[1;33m\u001b[0m\u001b[1;33m\u001b[0m\u001b[0m\n\u001b[0;32m     47\u001b[0m         \u001b[1;31m#scipy.misc.imsave(music_folder + \"/encodings/\" + os.path.basename(file)[:-4] + \"_encoding.png\", np.array(file_encoding))\u001b[0m\u001b[1;33m\u001b[0m\u001b[1;33m\u001b[0m\u001b[1;33m\u001b[0m\u001b[0m\n\u001b[1;32m---> 48\u001b[1;33m         scipy.misc.toimage(\n\u001b[0m\u001b[0;32m     49\u001b[0m             \u001b[0mnp\u001b[0m\u001b[1;33m.\u001b[0m\u001b[0marray\u001b[0m\u001b[1;33m(\u001b[0m\u001b[0mfile_encoding\u001b[0m\u001b[1;33m)\u001b[0m\u001b[1;33m,\u001b[0m \u001b[0mcmin\u001b[0m\u001b[1;33m=\u001b[0m\u001b[1;36m0.0\u001b[0m\u001b[1;33m,\u001b[0m \u001b[0mcmax\u001b[0m\u001b[1;33m=\u001b[0m\u001b[1;36m1.0\u001b[0m\u001b[1;33m\u001b[0m\u001b[1;33m\u001b[0m\u001b[0m\n\u001b[0;32m     50\u001b[0m         ).save(music_folder + \"/encodings/\" + os.path.basename(file)[:-4] + \"_encoding.png\")\n",
      "\u001b[1;31mAttributeError\u001b[0m: module 'scipy.misc' has no attribute 'toimage'"
     ]
    }
   ],
   "source": [
    "midi_file = get_midi('edm')"
   ]
  },
  {
   "cell_type": "code",
   "execution_count": 62,
   "metadata": {},
   "outputs": [],
   "source": [
    "midi_file"
   ]
  },
  {
   "cell_type": "code",
   "execution_count": null,
   "metadata": {},
   "outputs": [],
   "source": []
  },
  {
   "cell_type": "code",
   "execution_count": null,
   "metadata": {},
   "outputs": [],
   "source": []
  }
 ],
 "metadata": {
  "kernelspec": {
   "display_name": "Python 3",
   "language": "python",
   "name": "python3"
  },
  "language_info": {
   "codemirror_mode": {
    "name": "ipython",
    "version": 3
   },
   "file_extension": ".py",
   "mimetype": "text/x-python",
   "name": "python",
   "nbconvert_exporter": "python",
   "pygments_lexer": "ipython3",
   "version": "3.6.9"
  }
 },
 "nbformat": 4,
 "nbformat_minor": 2
}
